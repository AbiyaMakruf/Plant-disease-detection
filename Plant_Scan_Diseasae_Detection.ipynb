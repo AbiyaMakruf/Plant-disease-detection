{
  "nbformat": 4,
  "nbformat_minor": 0,
  "metadata": {
    "colab": {
      "provenance": [],
      "gpuType": "T4"
    },
    "kernelspec": {
      "name": "python3",
      "display_name": "Python 3"
    },
    "language_info": {
      "name": "python"
    },
    "accelerator": "GPU"
  },
  "cells": [
    {
      "cell_type": "code",
      "execution_count": 1,
      "metadata": {
        "colab": {
          "base_uri": "https://localhost:8080/"
        },
        "id": "3lX1VYx2QCXo",
        "outputId": "6ccba476-ed34-40e8-a834-8e68323894a8"
      },
      "outputs": [
        {
          "output_type": "stream",
          "name": "stdout",
          "text": [
            "2.14.0\n"
          ]
        }
      ],
      "source": [
        "#Import\n",
        "import tensorflow as tf\n",
        "from tensorflow.keras.preprocessing.image import ImageDataGenerator\n",
        "import zipfile\n",
        "import os\n",
        "import shutil\n",
        "import math\n",
        "import numpy as np\n",
        "from google.colab import files\n",
        "from tensorflow.keras.preprocessing import image\n",
        "import matplotlib.pyplot as plt\n",
        "import matplotlib.image as mpimg\n",
        "%matplotlib inline\n",
        "\n",
        "\n",
        "\n",
        "print(tf.__version__)"
      ]
    },
    {
      "cell_type": "code",
      "source": [
        "shutil.rmtree(r'/content/Dataset', ignore_errors=False, onerror=None)"
      ],
      "metadata": {
        "id": "vuT2OLO75xdn"
      },
      "execution_count": 20,
      "outputs": []
    },
    {
      "cell_type": "code",
      "source": [
        "#Unduh dataset\n",
        "#!gdown 1_sUun9Yk5S74kIHtc3POpUlTZDOJvcxf\n",
        "!gdown 18UVozJ7Rq5iMitqMmjVE74oGWDY6ehbp #7Class\n",
        "#!gdown 1UU4gBE8foHQ64gCS2WjmGb2hJgHGdtVi #17Class"
      ],
      "metadata": {
        "colab": {
          "base_uri": "https://localhost:8080/"
        },
        "id": "nYGcv9ndQMqf",
        "outputId": "0ec59a5f-620f-4ba0-b943-107be3da84ed"
      },
      "execution_count": 21,
      "outputs": [
        {
          "output_type": "stream",
          "name": "stdout",
          "text": [
            "Downloading...\n",
            "From: https://drive.google.com/uc?id=18UVozJ7Rq5iMitqMmjVE74oGWDY6ehbp\n",
            "To: /content/Dataset_2.zip\n",
            "100% 276M/276M [00:03<00:00, 84.0MB/s]\n"
          ]
        }
      ]
    },
    {
      "cell_type": "code",
      "source": [
        "#Melakukan unzip/extract dataset\n",
        "local_zip = '/content/Dataset_2.zip'\n",
        "zip_ref = zipfile.ZipFile(local_zip, 'r')\n",
        "zip_ref.extractall('/content/')\n",
        "zip_ref.close()\n",
        "\n",
        "#Menghapus file/folder yang tidak dibutuhkan\n",
        "# shutil.rmtree(r'/content/dataset', ignore_errors=False, onerror=None)\n",
        "os.remove('/content/Dataset_2.zip')\n",
        "os.rename('/content/Original Dataset','/content/Dataset')"
      ],
      "metadata": {
        "id": "V2DOKVBHSUKK",
        "colab": {
          "base_uri": "https://localhost:8080/",
          "height": 367
        },
        "outputId": "9211162e-428f-4015-f3b1-0e5755273aaa"
      },
      "execution_count": 24,
      "outputs": [
        {
          "output_type": "error",
          "ename": "FileNotFoundError",
          "evalue": "ignored",
          "traceback": [
            "\u001b[0;31m---------------------------------------------------------------------------\u001b[0m",
            "\u001b[0;31mFileNotFoundError\u001b[0m                         Traceback (most recent call last)",
            "\u001b[0;32m<ipython-input-24-7b10a4191b5f>\u001b[0m in \u001b[0;36m<cell line: 3>\u001b[0;34m()\u001b[0m\n\u001b[1;32m      1\u001b[0m \u001b[0;31m#Melakukan unzip/extract dataset\u001b[0m\u001b[0;34m\u001b[0m\u001b[0;34m\u001b[0m\u001b[0m\n\u001b[1;32m      2\u001b[0m \u001b[0mlocal_zip\u001b[0m \u001b[0;34m=\u001b[0m \u001b[0;34m'/content/Dataset_2.zip'\u001b[0m\u001b[0;34m\u001b[0m\u001b[0;34m\u001b[0m\u001b[0m\n\u001b[0;32m----> 3\u001b[0;31m \u001b[0mzip_ref\u001b[0m \u001b[0;34m=\u001b[0m \u001b[0mzipfile\u001b[0m\u001b[0;34m.\u001b[0m\u001b[0mZipFile\u001b[0m\u001b[0;34m(\u001b[0m\u001b[0mlocal_zip\u001b[0m\u001b[0;34m,\u001b[0m \u001b[0;34m'r'\u001b[0m\u001b[0;34m)\u001b[0m\u001b[0;34m\u001b[0m\u001b[0;34m\u001b[0m\u001b[0m\n\u001b[0m\u001b[1;32m      4\u001b[0m \u001b[0mzip_ref\u001b[0m\u001b[0;34m.\u001b[0m\u001b[0mextractall\u001b[0m\u001b[0;34m(\u001b[0m\u001b[0;34m'/content/'\u001b[0m\u001b[0;34m)\u001b[0m\u001b[0;34m\u001b[0m\u001b[0;34m\u001b[0m\u001b[0m\n\u001b[1;32m      5\u001b[0m \u001b[0mzip_ref\u001b[0m\u001b[0;34m.\u001b[0m\u001b[0mclose\u001b[0m\u001b[0;34m(\u001b[0m\u001b[0;34m)\u001b[0m\u001b[0;34m\u001b[0m\u001b[0;34m\u001b[0m\u001b[0m\n",
            "\u001b[0;32m/usr/lib/python3.10/zipfile.py\u001b[0m in \u001b[0;36m__init__\u001b[0;34m(self, file, mode, compression, allowZip64, compresslevel, strict_timestamps)\u001b[0m\n\u001b[1;32m   1249\u001b[0m             \u001b[0;32mwhile\u001b[0m \u001b[0;32mTrue\u001b[0m\u001b[0;34m:\u001b[0m\u001b[0;34m\u001b[0m\u001b[0;34m\u001b[0m\u001b[0m\n\u001b[1;32m   1250\u001b[0m                 \u001b[0;32mtry\u001b[0m\u001b[0;34m:\u001b[0m\u001b[0;34m\u001b[0m\u001b[0;34m\u001b[0m\u001b[0m\n\u001b[0;32m-> 1251\u001b[0;31m                     \u001b[0mself\u001b[0m\u001b[0;34m.\u001b[0m\u001b[0mfp\u001b[0m \u001b[0;34m=\u001b[0m \u001b[0mio\u001b[0m\u001b[0;34m.\u001b[0m\u001b[0mopen\u001b[0m\u001b[0;34m(\u001b[0m\u001b[0mfile\u001b[0m\u001b[0;34m,\u001b[0m \u001b[0mfilemode\u001b[0m\u001b[0;34m)\u001b[0m\u001b[0;34m\u001b[0m\u001b[0;34m\u001b[0m\u001b[0m\n\u001b[0m\u001b[1;32m   1252\u001b[0m                 \u001b[0;32mexcept\u001b[0m \u001b[0mOSError\u001b[0m\u001b[0;34m:\u001b[0m\u001b[0;34m\u001b[0m\u001b[0;34m\u001b[0m\u001b[0m\n\u001b[1;32m   1253\u001b[0m                     \u001b[0;32mif\u001b[0m \u001b[0mfilemode\u001b[0m \u001b[0;32min\u001b[0m \u001b[0mmodeDict\u001b[0m\u001b[0;34m:\u001b[0m\u001b[0;34m\u001b[0m\u001b[0;34m\u001b[0m\u001b[0m\n",
            "\u001b[0;31mFileNotFoundError\u001b[0m: [Errno 2] No such file or directory: '/content/Dataset_2.zip'"
          ]
        }
      ]
    },
    {
      "cell_type": "code",
      "source": [
        "#Menyiapkan Augmentasi gambar\n",
        "train_datagen = ImageDataGenerator(\n",
        "                    rescale=1./255,\n",
        "                    # rotation_range=20,\n",
        "                    # horizontal_flip=True,\n",
        "                    # shear_range = 0.2,\n",
        "                    # fill_mode = 'nearest'\n",
        "                )\n",
        "\n",
        "validation_datagen = ImageDataGenerator(\n",
        "                    rescale=1./255\n",
        "                )"
      ],
      "metadata": {
        "id": "B9ZZKhrpk1Uz"
      },
      "execution_count": 26,
      "outputs": []
    },
    {
      "cell_type": "code",
      "source": [
        "#Melakukan persiapan data\n",
        "train_dir = '/content/Dataset/train'\n",
        "validation_dir = '/content/Dataset/valid'\n",
        "\n",
        "train_generator =  train_datagen.flow_from_directory(\n",
        "    train_dir, #Direktori\n",
        "    target_size = (150,150), #Mengubah ukuran gambar\n",
        "    class_mode = 'categorical'\n",
        ")\n",
        "\n",
        "validation_generator = validation_datagen.flow_from_directory(\n",
        "    validation_dir,\n",
        "    target_size = (150,150),\n",
        "    class_mode = 'categorical'\n",
        ")"
      ],
      "metadata": {
        "colab": {
          "base_uri": "https://localhost:8080/"
        },
        "id": "O9sGRDPMk3rJ",
        "outputId": "83951d7f-a797-4b02-c48f-31fa3dd7d6ea"
      },
      "execution_count": 27,
      "outputs": [
        {
          "output_type": "stream",
          "name": "stdout",
          "text": [
            "Found 13473 images belonging to 7 classes.\n",
            "Found 3369 images belonging to 7 classes.\n"
          ]
        }
      ]
    },
    {
      "cell_type": "code",
      "source": [
        "#Membangun CNN model\n",
        "\n",
        "model = tf.keras.models.Sequential([\n",
        "    # CNN  1\n",
        "    tf.keras.layers.Conv2D(64, (5,5), activation = 'relu', input_shape=(150,150,3)),\n",
        "    tf.keras.layers.MaxPooling2D(2, 2),\n",
        "    #tf.keras.layers.Dropout(0.5),\n",
        "\n",
        "    # CNN  2\n",
        "    tf.keras.layers.Conv2D(64, (3,3), activation='relu'),\n",
        "    tf.keras.layers.MaxPooling2D(2, 2),\n",
        "    #tf.keras.layers.Dropout(0.5),\n",
        "\n",
        "    # CNN  3\n",
        "    tf.keras.layers.Conv2D(64, (3,3), activation='relu'),\n",
        "    tf.keras.layers.MaxPooling2D(2, 2),\n",
        "    #tf.keras.layers.Dropout(0.5),\n",
        "\n",
        "    # CNN  4\n",
        "    tf.keras.layers.Conv2D(64, (3,3), activation='relu'),\n",
        "    tf.keras.layers.MaxPooling2D(2, 2),\n",
        "    #tf.keras.layers.Dropout(0.5),\n",
        "\n",
        "    # Flatten hasil CNN\n",
        "    tf.keras.layers.Flatten(),\n",
        "\n",
        "    # Hidden Layer\n",
        "    tf.keras.layers.Dense(100, activation='relu'),\n",
        "    tf.keras.layers.Dropout(0.5),  # Adding dropout after the first dense layer\n",
        "    tf.keras.layers.Dense(150, activation='relu'),\n",
        "    tf.keras.layers.Dropout(0.5),  # Adding dropout after the first dense layer\n",
        "    tf.keras.layers.Dense(200, activation='relu'),\n",
        "    tf.keras.layers.Dropout(0.5),  # Adding dropout after the second dense layer\n",
        "\n",
        "    # Output Layer\n",
        "    tf.keras.layers.Dense(7, activation='softmax') # 17 klasifikasi\n",
        "    ])"
      ],
      "metadata": {
        "id": "U23xcsoGlUDb"
      },
      "execution_count": 28,
      "outputs": []
    },
    {
      "cell_type": "code",
      "source": [
        "#Melakukan compile model\n",
        "model.compile(loss='categorical_crossentropy',\n",
        "              optimizer=tf.optimizers.Adam(),\n",
        "              metrics=['accuracy'])"
      ],
      "metadata": {
        "id": "dxW5U94IlztD"
      },
      "execution_count": 29,
      "outputs": []
    },
    {
      "cell_type": "code",
      "source": [
        "# Melakukan training model\n",
        "history = model.fit(\n",
        "            train_generator,\n",
        "            epochs = 15,\n",
        "            validation_steps=5,\n",
        "            validation_data = validation_generator,\n",
        "            verbose = 1\n",
        "          )"
      ],
      "metadata": {
        "colab": {
          "base_uri": "https://localhost:8080/"
        },
        "id": "BPAQpiaZl2Wd",
        "outputId": "bafe5bfa-6409-4ed7-dc81-121d0d50cfee"
      },
      "execution_count": 30,
      "outputs": [
        {
          "output_type": "stream",
          "name": "stdout",
          "text": [
            "Epoch 1/15\n",
            "422/422 [==============================] - 28s 60ms/step - loss: 1.7998 - accuracy: 0.2302 - val_loss: 1.5606 - val_accuracy: 0.3562\n",
            "Epoch 2/15\n",
            "422/422 [==============================] - 29s 68ms/step - loss: 1.4683 - accuracy: 0.3982 - val_loss: 1.2499 - val_accuracy: 0.5312\n",
            "Epoch 3/15\n",
            "422/422 [==============================] - 27s 63ms/step - loss: 1.0947 - accuracy: 0.5976 - val_loss: 0.7273 - val_accuracy: 0.7250\n",
            "Epoch 4/15\n",
            "422/422 [==============================] - 24s 56ms/step - loss: 0.7329 - accuracy: 0.7540 - val_loss: 0.6146 - val_accuracy: 0.7812\n",
            "Epoch 5/15\n",
            "422/422 [==============================] - 21s 50ms/step - loss: 0.5353 - accuracy: 0.8225 - val_loss: 0.3616 - val_accuracy: 0.9000\n",
            "Epoch 6/15\n",
            "422/422 [==============================] - 23s 53ms/step - loss: 0.4788 - accuracy: 0.8452 - val_loss: 0.2540 - val_accuracy: 0.9125\n",
            "Epoch 7/15\n",
            "422/422 [==============================] - 22s 52ms/step - loss: 0.3662 - accuracy: 0.8839 - val_loss: 0.4418 - val_accuracy: 0.8438\n",
            "Epoch 8/15\n",
            "422/422 [==============================] - 25s 58ms/step - loss: 0.3763 - accuracy: 0.8847 - val_loss: 0.2367 - val_accuracy: 0.9062\n",
            "Epoch 9/15\n",
            "422/422 [==============================] - 21s 50ms/step - loss: 0.2694 - accuracy: 0.9172 - val_loss: 0.2145 - val_accuracy: 0.9250\n",
            "Epoch 10/15\n",
            "422/422 [==============================] - 21s 49ms/step - loss: 0.2380 - accuracy: 0.9247 - val_loss: 0.2443 - val_accuracy: 0.9250\n",
            "Epoch 11/15\n",
            "422/422 [==============================] - 23s 54ms/step - loss: 0.2192 - accuracy: 0.9340 - val_loss: 0.3196 - val_accuracy: 0.9062\n",
            "Epoch 12/15\n",
            "422/422 [==============================] - 21s 50ms/step - loss: 0.2039 - accuracy: 0.9393 - val_loss: 0.1609 - val_accuracy: 0.9375\n",
            "Epoch 13/15\n",
            "422/422 [==============================] - 22s 51ms/step - loss: 0.1571 - accuracy: 0.9538 - val_loss: 0.1415 - val_accuracy: 0.9500\n",
            "Epoch 14/15\n",
            "422/422 [==============================] - 23s 54ms/step - loss: 0.1757 - accuracy: 0.9502 - val_loss: 0.1421 - val_accuracy: 0.9500\n",
            "Epoch 15/15\n",
            "422/422 [==============================] - 21s 50ms/step - loss: 0.1607 - accuracy: 0.9532 - val_loss: 0.2229 - val_accuracy: 0.9375\n"
          ]
        }
      ]
    },
    {
      "cell_type": "code",
      "source": [
        "#Membuat grafik akurasi\n",
        "accuracy = history.history['accuracy']\n",
        "val_accuracy = history.history['val_accuracy']\n",
        "\n",
        "plt.figure(figsize=(10,10))\n",
        "plt.subplot(1, 2, 1)\n",
        "plt.plot(accuracy, label='Training Accuracy')\n",
        "plt.plot(val_accuracy, label='Validation Accuracy')\n",
        "plt.legend(loc='lower right')"
      ],
      "metadata": {
        "colab": {
          "base_uri": "https://localhost:8080/",
          "height": 847
        },
        "id": "U_SojNnwl3oo",
        "outputId": "de2e7e43-68a2-446d-8dba-e6e7bf22eb45"
      },
      "execution_count": 31,
      "outputs": [
        {
          "output_type": "execute_result",
          "data": {
            "text/plain": [
              "<matplotlib.legend.Legend at 0x795f16218580>"
            ]
          },
          "metadata": {},
          "execution_count": 31
        },
        {
          "output_type": "display_data",
          "data": {
            "text/plain": [
              "<Figure size 1000x1000 with 1 Axes>"
            ],
            "image/png": "[encoded data removed]"
          },
          "metadata": {}
        }
      ]
    },
    {
      "cell_type": "code",
      "source": [
        "model.save('model_2_pohon.h5')"
      ],
      "metadata": {
        "colab": {
          "base_uri": "https://localhost:8080/"
        },
        "id": "-lPLidMPc7ZR",
        "outputId": "5998cee8-f1e6-4a53-b435-c095d77b0c56"
      },
      "execution_count": 33,
      "outputs": [
        {
          "output_type": "stream",
          "name": "stderr",
          "text": [
            "/usr/local/lib/python3.10/dist-packages/keras/src/engine/training.py:3079: UserWarning: You are saving your model as an HDF5 file via `model.save()`. This file format is considered legacy. We recommend using instead the native Keras format, e.g. `model.save('my_model.keras')`.\n",
            "  saving_api.save_model(\n"
          ]
        }
      ]
    },
    {
      "cell_type": "code",
      "source": [
        "#Prediction images\n",
        "uploaded = files.upload()\n",
        "\n",
        "for fn in uploaded.keys():\n",
        "\n",
        "  # predicting images\n",
        "  path = fn\n",
        "  img = image.load_img(path, target_size=(150,150))\n",
        "\n",
        "  imgplot = plt.imshow(img)\n",
        "  x = image.img_to_array(img)\n",
        "  x = np.expand_dims(x, axis=0)\n",
        "  images = np.vstack([x])\n",
        "\n",
        "  datagen = tf.keras.preprocessing.image.ImageDataGenerator(\n",
        "        rescale=1./255)\n",
        "  test = datagen.flow(images)\n",
        "\n",
        "  classes = model.predict(test, batch_size=10)\n",
        "  predictions_arr = np.array(np.argmax(classes))\n",
        "  # Hasil klasifikasi model terhadap gambar\n",
        "  print(classes)\n",
        "  print(predictions_arr)\n",
        "  pred = ['Apple Scab','Apple Black Rot','Apple Cedar/Apple Rust','Apple Healthy','Potato Early blight','Potato healthy','Potato___Late_blight']\n",
        "  print(pred[predictions_arr])"
      ],
      "metadata": {
        "colab": {
          "base_uri": "https://localhost:8080/",
          "height": 37
        },
        "id": "Jefm3NXzl9HR",
        "outputId": "b4337efc-0d7e-415b-e109-086f107cea45"
      },
      "execution_count": 32,
      "outputs": [
        {
          "output_type": "display_data",
          "data": {
            "text/plain": [
              "<IPython.core.display.HTML object>"
            ],
            "text/html": [
              "\n",
              "     <input type=\"file\" id=\"files-7f25b8fb-b9cf-4b89-afdd-1738ba386f95\" name=\"files[]\" multiple disabled\n",
              "        style=\"border:none\" />\n",
              "     <output id=\"result-7f25b8fb-b9cf-4b89-afdd-1738ba386f95\">\n",
              "      Upload widget is only available when the cell has been executed in the\n",
              "      current browser session. Please rerun this cell to enable.\n",
              "      </output>\n",
              "      <script>// Copyright 2017 Google LLC\n",
              "//\n",
              "// Licensed under the Apache License, Version 2.0 (the \"License\");\n",
              "// you may not use this file except in compliance with the License.\n",
              "// You may obtain a copy of the License at\n",
              "//\n",
              "//      http://www.apache.org/licenses/LICENSE-2.0\n",
              "//\n",
              "// Unless required by applicable law or agreed to in writing, software\n",
              "// distributed under the License is distributed on an \"AS IS\" BASIS,\n",
              "// WITHOUT WARRANTIES OR CONDITIONS OF ANY KIND, either express or implied.\n",
              "// See the License for the specific language governing permissions and\n",
              "// limitations under the License.\n",
              "\n",
              "/**\n",
              " * @fileoverview Helpers for google.colab Python module.\n",
              " */\n",
              "(function(scope) {\n",
              "function span(text, styleAttributes = {}) {\n",
              "  const element = document.createElement('span');\n",
              "  element.textContent = text;\n",
              "  for (const key of Object.keys(styleAttributes)) {\n",
              "    element.style[key] = styleAttributes[key];\n",
              "  }\n",
              "  return element;\n",
              "}\n",
              "\n",
              "// Max number of bytes which will be uploaded at a time.\n",
              "const MAX_PAYLOAD_SIZE = 100 * 1024;\n",
              "\n",
              "function _uploadFiles(inputId, outputId) {\n",
              "  const steps = uploadFilesStep(inputId, outputId);\n",
              "  const outputElement = document.getElementById(outputId);\n",
              "  // Cache steps on the outputElement to make it available for the next call\n",
              "  // to uploadFilesContinue from Python.\n",
              "  outputElement.steps = steps;\n",
              "\n",
              "  return _uploadFilesContinue(outputId);\n",
              "}\n",
              "\n",
              "// This is roughly an async generator (not supported in the browser yet),\n",
              "// where there are multiple asynchronous steps and the Python side is going\n",
              "// to poll for completion of each step.\n",
              "// This uses a Promise to block the python side on completion of each step,\n",
              "// then passes the result of the previous step as the input to the next step.\n",
              "function _uploadFilesContinue(outputId) {\n",
              "  const outputElement = document.getElementById(outputId);\n",
              "  const steps = outputElement.steps;\n",
              "\n",
              "  const next = steps.next(outputElement.lastPromiseValue);\n",
              "  return Promise.resolve(next.value.promise).then((value) => {\n",
              "    // Cache the last promise value to make it available to the next\n",
              "    // step of the generator.\n",
              "    outputElement.lastPromiseValue = value;\n",
              "    return next.value.response;\n",
              "  });\n",
              "}\n",
              "\n",
              "/**\n",
              " * Generator function which is called between each async step of the upload\n",
              " * process.\n",
              " * @param {string} inputId Element ID of the input file picker element.\n",
              " * @param {string} outputId Element ID of the output display.\n",
              " * @return {!Iterable<!Object>} Iterable of next steps.\n",
              " */\n",
              "function* uploadFilesStep(inputId, outputId) {\n",
              "  const inputElement = document.getElementById(inputId);\n",
              "  inputElement.disabled = false;\n",
              "\n",
              "  const outputElement = document.getElementById(outputId);\n",
              "  outputElement.innerHTML = '';\n",
              "\n",
              "  const pickedPromise = new Promise((resolve) => {\n",
              "    inputElement.addEventListener('change', (e) => {\n",
              "      resolve(e.target.files);\n",
              "    });\n",
              "  });\n",
              "\n",
              "  const cancel = document.createElement('button');\n",
              "  inputElement.parentElement.appendChild(cancel);\n",
              "  cancel.textContent = 'Cancel upload';\n",
              "  const cancelPromise = new Promise((resolve) => {\n",
              "    cancel.onclick = () => {\n",
              "      resolve(null);\n",
              "    };\n",
              "  });\n",
              "\n",
              "  // Wait for the user to pick the files.\n",
              "  const files = yield {\n",
              "    promise: Promise.race([pickedPromise, cancelPromise]),\n",
              "    response: {\n",
              "      action: 'starting',\n",
              "    }\n",
              "  };\n",
              "\n",
              "  cancel.remove();\n",
              "\n",
              "  // Disable the input element since further picks are not allowed.\n",
              "  inputElement.disabled = true;\n",
              "\n",
              "  if (!files) {\n",
              "    return {\n",
              "      response: {\n",
              "        action: 'complete',\n",
              "      }\n",
              "    };\n",
              "  }\n",
              "\n",
              "  for (const file of files) {\n",
              "    const li = document.createElement('li');\n",
              "    li.append(span(file.name, {fontWeight: 'bold'}));\n",
              "    li.append(span(\n",
              "        `(${file.type || 'n/a'}) - ${file.size} bytes, ` +\n",
              "        `last modified: ${\n",
              "            file.lastModifiedDate ? file.lastModifiedDate.toLocaleDateString() :\n",
              "                                    'n/a'} - `));\n",
              "    const percent = span('0% done');\n",
              "    li.appendChild(percent);\n",
              "\n",
              "    outputElement.appendChild(li);\n",
              "\n",
              "    const fileDataPromise = new Promise((resolve) => {\n",
              "      const reader = new FileReader();\n",
              "      reader.onload = (e) => {\n",
              "        resolve(e.target.result);\n",
              "      };\n",
              "      reader.readAsArrayBuffer(file);\n",
              "    });\n",
              "    // Wait for the data to be ready.\n",
              "    let fileData = yield {\n",
              "      promise: fileDataPromise,\n",
              "      response: {\n",
              "        action: 'continue',\n",
              "      }\n",
              "    };\n",
              "\n",
              "    // Use a chunked sending to avoid message size limits. See b/62115660.\n",
              "    let position = 0;\n",
              "    do {\n",
              "      const length = Math.min(fileData.byteLength - position, MAX_PAYLOAD_SIZE);\n",
              "      const chunk = new Uint8Array(fileData, position, length);\n",
              "      position += length;\n",
              "\n",
              "      const base64 = btoa(String.fromCharCode.apply(null, chunk));\n",
              "      yield {\n",
              "        response: {\n",
              "          action: 'append',\n",
              "          file: file.name,\n",
              "          data: base64,\n",
              "        },\n",
              "      };\n",
              "\n",
              "      let percentDone = fileData.byteLength === 0 ?\n",
              "          100 :\n",
              "          Math.round((position / fileData.byteLength) * 100);\n",
              "      percent.textContent = `${percentDone}% done`;\n",
              "\n",
              "    } while (position < fileData.byteLength);\n",
              "  }\n",
              "\n",
              "  // All done.\n",
              "  yield {\n",
              "    response: {\n",
              "      action: 'complete',\n",
              "    }\n",
              "  };\n",
              "}\n",
              "\n",
              "scope.google = scope.google || {};\n",
              "scope.google.colab = scope.google.colab || {};\n",
              "scope.google.colab._files = {\n",
              "  _uploadFiles,\n",
              "  _uploadFilesContinue,\n",
              "};\n",
              "})(self);\n",
              "</script> "
            ]
          },
          "metadata": {}
        }
      ]
    },
    {
      "cell_type": "code",
      "source": [
        "#Download test image\n",
        "!gdown 1cQFeo1SCnzrDkdRKF4Gwe1-OqpQP1SFO\n",
        "\n",
        "#Melakukan unzip/extract dataset\n",
        "local_zip = '/content/Test Image.zip'\n",
        "zip_ref = zipfile.ZipFile(local_zip, 'r')\n",
        "zip_ref.extractall('/content/')\n",
        "zip_ref.close()\n",
        "\n",
        "#Menghapus file/folder yang tidak dibutuhkan\n",
        "os.remove('/content/Test Image.zip')"
      ],
      "metadata": {
        "colab": {
          "base_uri": "https://localhost:8080/"
        },
        "id": "MuoD48R3Fr5Z",
        "outputId": "0023625a-2920-461a-8f51-f948cc521493"
      },
      "execution_count": 42,
      "outputs": [
        {
          "output_type": "stream",
          "name": "stdout",
          "text": [
            "Downloading...\n",
            "From: https://drive.google.com/uc?id=1cQFeo1SCnzrDkdRKF4Gwe1-OqpQP1SFO\n",
            "To: /content/Test Image.zip\n",
            "\r  0% 0.00/227k [00:00<?, ?B/s]\r100% 227k/227k [00:00<00:00, 153MB/s]\n"
          ]
        }
      ]
    },
    {
      "cell_type": "code",
      "source": [
        "# Prediction images\n",
        "path = \"Test Image/\"\n",
        "predictions_array = []\n",
        "pred = ['Apple Scab','Apple Black Rot','Apple Cedar/Apple Rust','Apple Healthy','Potato Early blight','Potato Late_blight','Potato healthy']\n",
        "\n",
        "# Iterate through all files in the specified directory\n",
        "for filename in os.listdir(path):\n",
        "    if filename.endswith(\".JPG\") or filename.endswith(\".jpeg\") or filename.endswith(\".png\"):\n",
        "        # Full path to the image file\n",
        "        img_path = os.path.join(path, filename)\n",
        "\n",
        "        # Predicting images\n",
        "        img = image.load_img(img_path, target_size=(150, 150))\n",
        "\n",
        "        #imgplot = plt.imshow(img)\n",
        "        x = image.img_to_array(img)\n",
        "        x = np.expand_dims(x, axis=0)\n",
        "        images = np.vstack([x])\n",
        "\n",
        "        datagen = tf.keras.preprocessing.image.ImageDataGenerator(rescale=1./255)\n",
        "        test = datagen.flow(images)\n",
        "\n",
        "        classes = model.predict(test, batch_size=10,verbose=0)\n",
        "        predictions_arr = np.argmax(classes)\n",
        "        predictions_array.append(predictions_arr)\n",
        "\n",
        "        # Display the result for each image\n",
        "        print(f\"Prediction for {filename}: {pred[predictions_arr]}\")\n",
        "\n",
        "# Display the predictions array for all images\n",
        "print(\"Predictions Array:\", predictions_array)\n",
        "print(img)\n",
        "print(img_path)"
      ],
      "metadata": {
        "colab": {
          "base_uri": "https://localhost:8080/"
        },
        "id": "Ls1QAtinF_De",
        "outputId": "897b55b9-0149-4209-d05b-1552575b4e07"
      },
      "execution_count": 52,
      "outputs": [
        {
          "output_type": "stream",
          "name": "stdout",
          "text": [
            "Prediction for Apple Cedar Apple Rust.JPG: Apple Cedar/Apple Rust\n",
            "Prediction for Potato Early Blight.JPG: Potato Early blight\n",
            "Prediction for Potato Healthy_3.JPG: Potato healthy\n",
            "Prediction for Apple Scab.JPG: Apple Scab\n",
            "Prediction for Apple Healthy.JPG: Apple Healthy\n",
            "Prediction for Potato Late Blight_2.JPG: Potato Late_blight\n",
            "Prediction for Apple Healthy_2.JPG: Apple Healthy\n",
            "Prediction for Apple Black Rot.JPG: Apple Black Rot\n",
            "Prediction for Potato Late Blight_3.JPG: Potato Late_blight\n",
            "Prediction for Potato Late Blight.JPG: Potato Late_blight\n",
            "Prediction for Potato Healthy_2.JPG: Potato healthy\n",
            "Prediction for Potato Healthy.JPG: Potato healthy\n",
            "Prediction for Apple Scab_2.JPG: Apple Scab\n",
            "Predictions Array: [2, 4, 6, 0, 3, 5, 3, 1, 5, 5, 6, 6, 0]\n",
            "<PIL.Image.Image image mode=RGB size=150x150 at 0x795FA6940760>\n",
            "Test Image/Apple Scab_2.JPG\n"
          ]
        }
      ]
    },
    {
      "cell_type": "markdown",
      "source": [
        "# **TEST PREDICT LEWAT LOAD MODEL**"
      ],
      "metadata": {
        "id": "Zcl31Ms2iRvv"
      }
    },
    {
      "cell_type": "code",
      "source": [
        "from tensorflow.keras.models import load_model\n",
        "model2 = load_model('/content/model_2_pohon.h5')\n",
        "\n",
        "# Prediction images\n",
        "path = \"Test Image/\"\n",
        "predictions_array = []\n",
        "pred = ['Apple Scab','Apple Black Rot','Apple Cedar/Apple Rust','Apple Healthy','Potato Early blight','Potato Late_blight','Potato healthy']\n",
        "\n",
        "# Iterate through all files in the specified directory\n",
        "for filename in os.listdir(path):\n",
        "    if filename.endswith(\".JPG\") or filename.endswith(\".jpeg\") or filename.endswith(\".png\"):\n",
        "        # Full path to the image file\n",
        "        img_path = os.path.join(path, filename)\n",
        "\n",
        "        # Predicting images\n",
        "        img = image.load_img(img_path, target_size=(150, 150))\n",
        "\n",
        "        #imgplot = plt.imshow(img)\n",
        "        x = image.img_to_array(img)\n",
        "        x = np.expand_dims(x, axis=0)\n",
        "        images = np.vstack([x])\n",
        "\n",
        "        datagen = tf.keras.preprocessing.image.ImageDataGenerator(rescale=1./255)\n",
        "        test = datagen.flow(images)\n",
        "\n",
        "        classes = model2.predict(test, batch_size=10,verbose=0)\n",
        "        predictions_arr = np.argmax(classes)\n",
        "        predictions_array.append(predictions_arr)\n",
        "\n",
        "        # Display the result for each image\n",
        "        print(f\"Prediction for {filename}: {pred[predictions_arr]}\")\n",
        "\n",
        "# Display the predictions array for all images\n",
        "print(\"Predictions Array:\", predictions_array)"
      ],
      "metadata": {
        "colab": {
          "base_uri": "https://localhost:8080/"
        },
        "id": "JHYOPxR1iQyj",
        "outputId": "5aea59c8-44d1-4553-aa73-6b1e1858ebfd"
      },
      "execution_count": 48,
      "outputs": [
        {
          "output_type": "stream",
          "name": "stdout",
          "text": [
            "Prediction for Apple Cedar Apple Rust.JPG: Apple Cedar/Apple Rust\n",
            "Prediction for Potato Early Blight.JPG: Potato Early blight\n",
            "Prediction for Potato Healthy_3.JPG: Potato healthy\n",
            "Prediction for Apple Scab.JPG: Apple Scab\n",
            "Prediction for Apple Healthy.JPG: Apple Healthy\n",
            "Prediction for Potato Late Blight_2.JPG: Potato Late_blight\n",
            "Prediction for Apple Healthy_2.JPG: Apple Healthy\n",
            "Prediction for Apple Black Rot.JPG: Apple Black Rot\n",
            "Prediction for Potato Late Blight_3.JPG: Potato Late_blight\n",
            "Prediction for Potato Late Blight.JPG: Potato Late_blight\n",
            "Prediction for Potato Healthy_2.JPG: Potato healthy\n",
            "Prediction for Potato Healthy.JPG: Potato healthy\n",
            "Prediction for Apple Scab_2.JPG: Apple Scab\n",
            "Predictions Array: [2, 4, 6, 0, 3, 5, 3, 1, 5, 5, 6, 6, 0]\n"
          ]
        }
      ]
    }
  ]
}